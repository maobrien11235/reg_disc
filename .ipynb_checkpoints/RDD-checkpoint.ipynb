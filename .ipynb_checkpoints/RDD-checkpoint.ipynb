{
 "cells": [
  {
   "cell_type": "markdown",
   "metadata": {},
   "source": [
    "# Discontinuous Regression Design Exploration"
   ]
  },
  {
   "cell_type": "markdown",
   "metadata": {},
   "source": [
    "I hypothesize that there is a statistically significant difference between banks that are subject to higher regulatory scrutiny compared to those banks with less regulatory scrutiny. \n",
    "My more precise hypothesis is: $H_O$ : Banks above \\\\$10BB in consolidated assets stastically significantly higher (at the 95\\% level) Common Equity Tier 1 (CET1) capital levels than banks below \\\\$10BB in consolidated assets.  \n",
    "\n"
   ]
  },
  {
   "cell_type": "code",
   "execution_count": 1,
   "metadata": {},
   "outputs": [],
   "source": [
    "import pandas as pd\n",
    "import statsmodels as sm\n",
    "import seaborn as sns\n",
    "import rdd "
   ]
  },
  {
   "cell_type": "code",
   "execution_count": 2,
   "metadata": {},
   "outputs": [],
   "source": [
    "test = pd.read_excel(r\"Bank_data.xlsx\")"
   ]
  },
  {
   "cell_type": "code",
   "execution_count": 6,
   "metadata": {
    "scrolled": true
   },
   "outputs": [
    {
     "name": "stdout",
     "output_type": "stream",
     "text": [
      "Index(['Bank Name/ Bank Holding Company Name', 'National Rank', 'Bank ID',\n",
      "       'Bank Location', 'Charter', 'Cosolidated Assets (MM$)',\n",
      "       'Domestic Assets (MM$)', 'Percent Domestic Assets',\n",
      "       'Pct Cumulative Assets', 'Domestic Branches', 'Foreign Branches', 'IBF',\n",
      "       'Pct Foreign Owned',\n",
      "       'Tier 1 Capital Ratio % (CET1) (Latest data available)'],\n",
      "      dtype='object')\n",
      "<bound method DataFrame.info of                  Bank Name/ Bank Holding Company Name  National Rank  Bank ID  \\\n",
      "0                               GLACIER BK/GLACIER BC            110  2634191   \n",
      "1               PACIFIC PREMIER BK/PACIFIC PREMIER BC            111   431172   \n",
      "2                                 AMERIS BK/AMERIS BC            112   764030   \n",
      "3                                          TOWNEBANK/            113  2797724   \n",
      "4                               BANNER BK/BANNER CORP            114   352772   \n",
      "5                          EASTERN BK/EASTERN BK CORP            115   128904   \n",
      "6                              CITIZENS BUS BK/CVB FC            116   933966   \n",
      "7                    COMMUNITY BK NA/COMMUNITY BK SYS            117   202907   \n",
      "8                     FIRST MRCHS BK/FIRST MRCHS CORP            118    17147   \n",
      "9                           CUSTOMERS BK/CUSTOMERS BC            119  2354985   \n",
      "10                           BANC OF CA NA/BANC OF CA            120   200378   \n",
      "11       PLAINSCAPITAL BK/DIAMOND HTH STOCK CO GP LLC            121   637451   \n",
      "12                                 POPULAR BK/POPULAR            122  2736291   \n",
      "13                                   NBT BK NA/NBT BC            123   702117   \n",
      "14               ISRAEL DISCOUNT BK OF NY/DISCOUNT BC            124   320119   \n",
      "15                LEGACYTEXAS BK/LEGACYTEXAS FNCL GRP            125   878898   \n",
      "16                         ROCKLAND TC/INDEPENDENT BC            126   613008   \n",
      "17  INTERNATIONAL BK OF CMRC/INTERNATIONAL BSHRS CORP            127  1001152   \n",
      "18       BOSTON PRIVATE B&TC/BOSTON PRIVATE FNCL HOLD            128   964700   \n",
      "19                                 EAGLEBANK/EAGLE BC            129  2652092   \n",
      "20                    SANDY SPRING BK/SANDY SPRING BC            130   506922   \n",
      "21                   SERVISFIRST BK/SERVISFIRST BSHRS            131  3348888   \n",
      "22              OCEANFIRST BK NA/OCEANFIRST FNCL CORP            132    85472   \n",
      "23  FIRST COMMONWEALTH BK/FIRST COMMONWEALTH FNCL ...            133    42420   \n",
      "\n",
      "       Bank Location Charter  Cosolidated Assets (MM$)  Domestic Assets (MM$)  \\\n",
      "0      KALISPELL, MT     SNM                     12062                  12062   \n",
      "1         IRVINE, CA     SMB                     11579                  11579   \n",
      "2       MOULTRIE, GA     SNM                     11570                  11570   \n",
      "3     PORTSMOUTH, VA     SNM                     11568                  11568   \n",
      "4    WALLA WALLA, WA     SNM                     11453                  11453   \n",
      "5         BOSTON, MA     SNM                     11332                  11332   \n",
      "6        ONTARIO, CA     SNM                     11304                  11304   \n",
      "7         CANTON, NY     NAT                     10707                  10707   \n",
      "8         MUNCIE, IN     SNM                     10196                  10196   \n",
      "9   PHOENIXVILLE, PA     SMB                     10135                  10135   \n",
      "10     SANTA ANA, CA     NAT                      9879                   9879   \n",
      "11        DALLAS, TX     SMB                      9866                   9866   \n",
      "12      NEW YORK, NY     SMB                      9585                   9585   \n",
      "13       NORWICH, NY     NAT                      9466                   9466   \n",
      "14      NEW YORK, NY     SNM                      9459                   9459   \n",
      "15         PLANO, TX     SMB                      9349                   9349   \n",
      "16      ROCKLAND, MA     SNM                      8996                   8996   \n",
      "17        LAREDO, TX     SNM                      8523                   8523   \n",
      "18        BOSTON, MA     SMB                      8482                   8482   \n",
      "19      BETHESDA, MD     SMB                      8384                   8384   \n",
      "20         OLNEY, MD     SMB                      8316                   8316   \n",
      "21      HOMEWOOD, AL     SNM                      8310                   8310   \n",
      "22    TOMS RIVER, NJ     NAT                      8093                   8093   \n",
      "23       INDIANA, PA     SNM                      7954                   7954   \n",
      "\n",
      "    Percent Domestic Assets  Pct Cumulative Assets  Domestic Branches  \\\n",
      "0                       100                     87                150   \n",
      "1                       100                     87                 41   \n",
      "2                       100                     87                115   \n",
      "3                       100                     88                 41   \n",
      "4                       100                     88                171   \n",
      "5                       100                     88                 91   \n",
      "6                       100                     88                 61   \n",
      "7                       100                     88                222   \n",
      "8                       100                     88                118   \n",
      "9                       100                     88                 14   \n",
      "10                      100                     88                 32   \n",
      "11                      100                     88                128   \n",
      "12                      100                     88                 51   \n",
      "13                      100                     88                149   \n",
      "14                      100                     88                  6   \n",
      "15                      100                     88                 41   \n",
      "16                      100                     88                 88   \n",
      "17                      100                     88                115   \n",
      "18                      100                     88                 23   \n",
      "19                      100                     88                 19   \n",
      "20                      100                     89                 54   \n",
      "21                      100                     89                 19   \n",
      "22                      100                     89                 65   \n",
      "23                      100                     89                138   \n",
      "\n",
      "    Foreign Branches IBF  Pct Foreign Owned  \\\n",
      "0                  0   N                  0   \n",
      "1                  0   N                  0   \n",
      "2                  0   N                  0   \n",
      "3                  0   N                  0   \n",
      "4                  0   N                  0   \n",
      "5                  0   N                  0   \n",
      "6                  0   N                  0   \n",
      "7                  0   N                  0   \n",
      "8                  0   N                  0   \n",
      "9                  0   N                  0   \n",
      "10                 0   N                  0   \n",
      "11                 0   N                  0   \n",
      "12                 0   N                100   \n",
      "13                 0   N                  0   \n",
      "14                 0   Y                100   \n",
      "15                 0   N                  0   \n",
      "16                 0   N                  0   \n",
      "17                 0   N                  0   \n",
      "18                 0   N                  0   \n",
      "19                 0   N                  0   \n",
      "20                 0   N                  0   \n",
      "21                 0   N                  0   \n",
      "22                 0   N                  0   \n",
      "23                 0   N                  0   \n",
      "\n",
      "    Tier 1 Capital Ratio % (CET1) (Latest data available)  \n",
      "0                                               12.19      \n",
      "1                                               10.93      \n",
      "2                                                9.75      \n",
      "3                                               11.52      \n",
      "4                                               10.86      \n",
      "5                                               10.76      \n",
      "6                                               14.64      \n",
      "7                                               15.67      \n",
      "8                                               12.14      \n",
      "9                                               10.85      \n",
      "10                                              10.34      \n",
      "11                                              12.67      \n",
      "12                                              17.46      \n",
      "13                                              11.14      \n",
      "14                                              14.26      \n",
      "15                                               9.87      \n",
      "16                                              10.44      \n",
      "17                                              17.98      \n",
      "18                                              11.20      \n",
      "19                                              12.76      \n",
      "20                                              11.37      \n",
      "21                                              11.22      \n",
      "22                                              13.47      \n",
      "23                                              11.25      >\n"
     ]
    }
   ],
   "source": [
    "print(test.columns)\n",
    "print(test.info)"
   ]
  },
  {
   "cell_type": "code",
   "execution_count": 9,
   "metadata": {},
   "outputs": [
    {
     "name": "stdout",
     "output_type": "stream",
     "text": [
      "       National Rank       Bank ID  Cosolidated Assets (MM$)  \\\n",
      "count      24.000000  2.400000e+01                 24.000000   \n",
      "mean      121.500000  1.054488e+06               9857.000000   \n",
      "std         7.071068  1.054496e+06               1321.176649   \n",
      "min       110.000000  1.714700e+04               7954.000000   \n",
      "25%       115.750000  2.908160e+05               8512.750000   \n",
      "50%       121.500000  6.697840e+05               9725.500000   \n",
      "75%       127.250000  1.339610e+06              11311.000000   \n",
      "max       133.000000  3.348888e+06              12062.000000   \n",
      "\n",
      "       Domestic Assets (MM$)  Percent Domestic Assets  Pct Cumulative Assets  \\\n",
      "count              24.000000                     24.0              24.000000   \n",
      "mean             9857.000000                    100.0              88.041667   \n",
      "std              1321.176649                      0.0               0.550033   \n",
      "min              7954.000000                    100.0              87.000000   \n",
      "25%              8512.750000                    100.0              88.000000   \n",
      "50%              9725.500000                    100.0              88.000000   \n",
      "75%             11311.000000                    100.0              88.000000   \n",
      "max             12062.000000                    100.0              89.000000   \n",
      "\n",
      "       Domestic Branches  Foreign Branches  Pct Foreign Owned  \\\n",
      "count          24.000000              24.0          24.000000   \n",
      "mean           81.333333               0.0           8.333333   \n",
      "std            57.974257               0.0          28.232985   \n",
      "min             6.000000               0.0           0.000000   \n",
      "25%            38.750000               0.0           0.000000   \n",
      "50%            63.000000               0.0           0.000000   \n",
      "75%           120.500000               0.0           0.000000   \n",
      "max           222.000000               0.0         100.000000   \n",
      "\n",
      "       Tier 1 Capital Ratio % (CET1) (Latest data available)  \n",
      "count                                          24.000000      \n",
      "mean                                           12.280833      \n",
      "std                                             2.243245      \n",
      "min                                             9.750000      \n",
      "25%                                            10.857500      \n",
      "50%                                            11.310000      \n",
      "75%                                            12.937500      \n",
      "max                                            17.980000      \n"
     ]
    }
   ],
   "source": [
    "print(test.describe())"
   ]
  },
  {
   "cell_type": "code",
   "execution_count": null,
   "metadata": {},
   "outputs": [],
   "source": []
  },
  {
   "cell_type": "code",
   "execution_count": null,
   "metadata": {},
   "outputs": [],
   "source": []
  },
  {
   "cell_type": "code",
   "execution_count": null,
   "metadata": {},
   "outputs": [],
   "source": []
  },
  {
   "cell_type": "markdown",
   "metadata": {},
   "source": [
    "## Future Work and Caveats:\n",
    "1. Mismatched Dates on Data Gathering\n",
    "    * After completing data gathering, I discovered an error in how I attached CET1 ratios to each bank. I used the June 2019 ranking of banks by consolidated assets but collected the most recent CET1 ratios for each bank as of December 2019. While these ratios shouldn't drastically change, it would have been better to get the CET1 ratios for as close the June 2019 report date as possible.\n",
    "2. Poor Choice of Experiment Threshold\n",
    "    * A lower asset size threshold may have been more effective because banks are already reviewed for CET1 at above the \\\\$5BB level and certainly at the \\\\$10BB level. Instead, perhaps a review of banks at the \\\\$1BB asset level would have been better."
   ]
  },
  {
   "cell_type": "code",
   "execution_count": null,
   "metadata": {},
   "outputs": [],
   "source": []
  },
  {
   "cell_type": "code",
   "execution_count": null,
   "metadata": {},
   "outputs": [],
   "source": []
  }
 ],
 "metadata": {
  "kernelspec": {
   "display_name": "Python 3",
   "language": "python",
   "name": "python3"
  },
  "language_info": {
   "codemirror_mode": {
    "name": "ipython",
    "version": 3
   },
   "file_extension": ".py",
   "mimetype": "text/x-python",
   "name": "python",
   "nbconvert_exporter": "python",
   "pygments_lexer": "ipython3",
   "version": "3.6.8"
  }
 },
 "nbformat": 4,
 "nbformat_minor": 2
}
